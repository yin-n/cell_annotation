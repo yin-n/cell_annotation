{
 "cells": [
  {
   "cell_type": "code",
   "execution_count": 12,
   "id": "19f2ee02-54aa-49e6-b44c-35523e9e7713",
   "metadata": {},
   "outputs": [],
   "source": [
    "shuffle_list = {}"
   ]
  },
  {
   "cell_type": "code",
   "execution_count": 13,
   "id": "dbbd7494-5bf2-4aa0-935c-d53437bdf803",
   "metadata": {},
   "outputs": [],
   "source": [
    "#you need to change this path to your image and mask file path\n",
    "import json\n",
    "json_file_path = './test_files.json'\n",
    "\n",
    "# read test json file\n",
    "with open(json_file_path) as f:\n",
    "    test_data = json.load(f)\n",
    "\n",
    "# # filter norm test data\n",
    "test_files = [f for f in test_data if '*img.tif' in f]"
   ]
  },
  {
   "cell_type": "code",
   "execution_count": 14,
   "id": "cc88a905-96a1-4978-aa01-5e7f0f28a719",
   "metadata": {},
   "outputs": [],
   "source": [
    "# Define a function to recursively search for matching strings\n",
    "\n",
    "import json\n",
    "import fnmatch\n",
    "def find_matching_strings(obj, pattern):\n",
    "    matches = []\n",
    "    if isinstance(obj, dict):\n",
    "        for key, value in obj.items():\n",
    "            matches.extend(find_matching_strings(value, pattern))\n",
    "    elif isinstance(obj, list):\n",
    "        for item in obj:\n",
    "            matches.extend(find_matching_strings(item, pattern))\n",
    "    elif isinstance(obj, str):\n",
    "        if fnmatch.fnmatch(obj, pattern):\n",
    "            matches.append(obj)\n",
    "    return matches\n",
    "\n",
    "# Define the pattern to match\n",
    "pattern = '*img.tif'\n",
    "\n",
    "# Find all matching strings in the JSON data\n",
    "matching_strings = find_matching_strings(test_data, pattern)"
   ]
  },
  {
   "cell_type": "code",
   "execution_count": 15,
   "id": "d2bf8e40-e2f4-420d-a80e-0fb953c59744",
   "metadata": {},
   "outputs": [],
   "source": [
    "test_id = [item.split('_')[0] for item in matching_strings]\n",
    "test_id = sorted(test_id, key=int)"
   ]
  },
  {
   "cell_type": "code",
   "execution_count": 17,
   "id": "bb913e9f-1aeb-477f-8c04-aeee14c0410a",
   "metadata": {},
   "outputs": [],
   "source": [
    "## have 292 shuffled [1,2,3] and record it to each id as a list\n",
    "import random\n",
    "for item in test_id:\n",
    "    array = [1,2,3,4]\n",
    "    random.shuffle(array)\n",
    "    shuffle_list[item] = array"
   ]
  },
  {
   "cell_type": "code",
   "execution_count": 18,
   "id": "3871de7e-fe81-451a-a063-03d766ec86cc",
   "metadata": {},
   "outputs": [
    {
     "data": {
      "text/plain": [
       "{'0005': [2, 4, 1, 3],\n",
       " '0006': [3, 1, 2, 4],\n",
       " '0009': [3, 1, 2, 4],\n",
       " '0017': [1, 4, 3, 2],\n",
       " '0022': [1, 4, 3, 2],\n",
       " '0024': [3, 1, 2, 4],\n",
       " '0030': [2, 1, 3, 4],\n",
       " '0033': [1, 2, 4, 3],\n",
       " '0042': [3, 4, 2, 1],\n",
       " '0045': [4, 1, 3, 2],\n",
       " '0046': [1, 3, 2, 4],\n",
       " '0056': [2, 1, 4, 3],\n",
       " '0059': [3, 4, 2, 1],\n",
       " '0060': [3, 4, 2, 1],\n",
       " '0063': [2, 3, 4, 1],\n",
       " '0066': [1, 4, 3, 2],\n",
       " '0075': [4, 3, 2, 1],\n",
       " '0077': [1, 4, 3, 2],\n",
       " '0079': [3, 1, 4, 2],\n",
       " '0084': [1, 4, 2, 3],\n",
       " '0090': [1, 4, 2, 3],\n",
       " '0101': [2, 3, 1, 4],\n",
       " '0109': [2, 1, 4, 3],\n",
       " '0113': [1, 4, 2, 3],\n",
       " '0117': [4, 2, 1, 3],\n",
       " '0118': [4, 2, 3, 1],\n",
       " '0119': [2, 1, 4, 3],\n",
       " '0124': [4, 3, 1, 2],\n",
       " '0125': [4, 1, 2, 3],\n",
       " '0143': [3, 4, 1, 2],\n",
       " '0146': [4, 1, 2, 3],\n",
       " '0147': [1, 3, 2, 4],\n",
       " '0158': [3, 1, 2, 4],\n",
       " '0159': [2, 4, 3, 1],\n",
       " '0165': [2, 4, 1, 3],\n",
       " '0168': [3, 4, 2, 1],\n",
       " '0172': [1, 2, 3, 4],\n",
       " '0176': [1, 2, 3, 4],\n",
       " '0177': [3, 2, 4, 1],\n",
       " '0181': [4, 2, 3, 1],\n",
       " '0183': [3, 1, 4, 2],\n",
       " '0202': [2, 1, 3, 4],\n",
       " '0213': [2, 1, 3, 4],\n",
       " '0221': [4, 1, 2, 3],\n",
       " '0227': [2, 4, 1, 3],\n",
       " '0231': [4, 3, 2, 1],\n",
       " '0238': [4, 3, 1, 2],\n",
       " '0244': [2, 4, 3, 1],\n",
       " '0246': [3, 1, 4, 2],\n",
       " '0260': [2, 4, 1, 3],\n",
       " '0269': [3, 4, 2, 1],\n",
       " '0271': [3, 4, 2, 1],\n",
       " '0274': [4, 2, 1, 3],\n",
       " '0275': [1, 4, 3, 2],\n",
       " '0277': [2, 4, 3, 1],\n",
       " '0279': [4, 1, 2, 3],\n",
       " '0281': [2, 4, 3, 1],\n",
       " '0282': [3, 4, 2, 1],\n",
       " '0285': [4, 1, 3, 2]}"
      ]
     },
     "execution_count": 18,
     "metadata": {},
     "output_type": "execute_result"
    }
   ],
   "source": [
    "# save this list to a pickle\n",
    "shuffle_list"
   ]
  },
  {
   "cell_type": "code",
   "execution_count": 19,
   "id": "14a71980-523e-437d-a28f-c1e90ac702dd",
   "metadata": {},
   "outputs": [],
   "source": [
    "import pickle\n",
    "with open('shuffle_model.pkl', 'wb') as f:\n",
    "   pickle.dump(shuffle_list, f)"
   ]
  },
  {
   "cell_type": "code",
   "execution_count": null,
   "id": "2a54acd6-6083-4696-9c15-7392aec89f26",
   "metadata": {},
   "outputs": [],
   "source": []
  },
  {
   "cell_type": "code",
   "execution_count": null,
   "id": "e59b1a8a-14f7-4db8-b388-d744d0f3eb0e",
   "metadata": {},
   "outputs": [],
   "source": []
  }
 ],
 "metadata": {
  "kernelspec": {
   "display_name": "Python 3 (ipykernel)",
   "language": "python",
   "name": "python3"
  },
  "language_info": {
   "codemirror_mode": {
    "name": "ipython",
    "version": 3
   },
   "file_extension": ".py",
   "mimetype": "text/x-python",
   "name": "python",
   "nbconvert_exporter": "python",
   "pygments_lexer": "ipython3",
   "version": "3.10.14"
  }
 },
 "nbformat": 4,
 "nbformat_minor": 5
}
