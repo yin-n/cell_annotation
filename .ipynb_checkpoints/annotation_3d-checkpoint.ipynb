{
 "cells": [
  {
   "cell_type": "code",
   "execution_count": 1,
   "id": "8d8cbe40-4b8a-4daa-9482-4f3a1be268ff",
   "metadata": {
    "tags": []
   },
   "outputs": [],
   "source": [
    "import numpy as np\n",
    "from skimage import io\n",
    "import napari\n",
    "import pandas as pd\n",
    "import zarr\n",
    "import os\n",
    "import pickle\n",
    "import matplotlib.pyplot as plt\n",
    "import tifffile as tf\n",
    "import glob"
   ]
  },
  {
   "cell_type": "markdown",
   "id": "f820e5d1-a6ab-4900-a97e-967646eceded",
   "metadata": {},
   "source": [
    "### Get Annotation data"
   ]
  },
  {
   "cell_type": "code",
   "execution_count": 27,
   "id": "a3b40fd2-9e1b-4561-a547-677757e2370b",
   "metadata": {},
   "outputs": [
    {
     "name": "stdout",
     "output_type": "stream",
     "text": [
      "Directory created: ./tatz_3d/\n"
     ]
    },
    {
     "name": "stderr",
     "output_type": "stream",
     "text": [
      "/tmp/ipykernel_343835/339550675.py:19: FutureWarning: The N5Store is deprecated and will be removed in a Zarr-Python version 3, see https://github.com/zarr-developers/zarr-python/issues/1274 for more information.\n",
      "  fix_zarr = [zarr.open(store=zarr.N5Store(fix_n5_path[0]), mode='r'), zarr.open(store=zarr.N5Store(fix_n5_path[1]), mode='r')]\n"
     ]
    }
   ],
   "source": [
    "##### change path\n",
    "# first path need to be first brain,second path need to be another brain\n",
    "fix_n5_path = ['/mnt/aperto/fused/fused.n5','/mnt/aperto/Tatz_brain_data/fused/fused.n5']\n",
    "# save path\n",
    "#create the directory if it does not exist\n",
    "##### change path\n",
    "# you need to change to the folder you want\n",
    "directory = './tatz_3d/'\n",
    "if not os.path.exists(directory):\n",
    "    os.makedirs(directory)\n",
    "    print(\"Directory created:\", directory)\n",
    "##### change path\n",
    "save_path = directory\n",
    "##### change path\n",
    "#you need to change to the folder you want metadata path\n",
    "meta_path = './tatz_annotation/tatz_annotation.pkl'\n",
    "\n",
    "# create Zarr file object\n",
    "fix_zarr = [zarr.open(store=zarr.N5Store(fix_n5_path[0]), mode='r'), zarr.open(store=zarr.N5Store(fix_n5_path[1]), mode='r')]\n",
    "# if you use ngff ome.zarr\n",
    "# mov_zarr_path = '/mnt/ampa02_data01/tmurakami/240417_whole_4color_1st_M037-3pb/registration/round02.zarr'\n",
    "# mov_zarr = zarr.open(mov_zarr_path, mode='r')\n",
    "\n",
    "n5_setups = list(fix_zarr[0].keys())\n",
    "\n",
    "voxel_size = (2.0,1.3,1.3)"
   ]
  },
  {
   "cell_type": "code",
   "execution_count": 3,
   "id": "a62f4fe5-a1db-46b2-b4b0-0e5b635b3f5b",
   "metadata": {
    "tags": []
   },
   "outputs": [],
   "source": [
    "# make metadata file if it does not exist.\n",
    "if not os.path.exists(meta_path):\n",
    "    df = pd.DataFrame(columns=['ID', 'integer_ID', 'instance_counts', 'corner', 'source', 'ref_channel', 'channel', 'crop_size', 'isHard', 'plane_position'])\n",
    "else:\n",
    "    df = pd.read_pickle(meta_path)\n"
   ]
  },
  {
   "cell_type": "code",
   "execution_count": 4,
   "id": "0f33f7d2-82b1-48b4-aef2-7b9998f913df",
   "metadata": {},
   "outputs": [],
   "source": [
    "resolusion_0_shape = fix_zarr[0][n5_setups[1]]['timepoint0']['s0'].shape\n",
    "resolusion_2_shape = fix_zarr[0][n5_setups[3]]['timepoint0']['s2'].shape\n",
    "scale_size = []\n",
    "for i in range(len(resolusion_0_shape)):\n",
    "    scale_size.append(resolusion_2_shape[i]/resolusion_0_shape[i])"
   ]
  },
  {
   "cell_type": "code",
   "execution_count": 5,
   "id": "c4e51507-0a99-4f5d-b8e5-03b3ba5f07bd",
   "metadata": {},
   "outputs": [],
   "source": [
    "# set your parameters here\n",
    "reference_chan = 3 # Integer or None\n",
    "segment_chan = 4\n",
    "\n",
    "# [100,256,256] crop size and FoV [100,768,768] are recommended for the 2D annotation\n",
    "crop_size = [100,256,256]\n",
    "FoV = [100,768, 768]\n",
    "FoV1 = [1, 2137, 1603]\n",
    "# set True for 2D annotation and set False for 3D annotation\n",
    "select_plane = True\n",
    "\n",
    "# processing of parameters\n",
    "if not all([(j-i)>=0 for i,j in zip(crop_size, FoV)]):\n",
    "    raise ValueError('FoV should be larger than crop_size')"
   ]
  },
  {
   "cell_type": "code",
   "execution_count": null,
   "id": "f2f15c84-87e6-443b-b778-48cacc96b29e",
   "metadata": {},
   "outputs": [],
   "source": []
  },
  {
   "cell_type": "code",
   "execution_count": 13,
   "id": "32e2e3bb-8c3c-4a30-9908-5cf2c06649b6",
   "metadata": {},
   "outputs": [
    {
     "data": {
      "text/html": [
       "<div>\n",
       "<style scoped>\n",
       "    .dataframe tbody tr th:only-of-type {\n",
       "        vertical-align: middle;\n",
       "    }\n",
       "\n",
       "    .dataframe tbody tr th {\n",
       "        vertical-align: top;\n",
       "    }\n",
       "\n",
       "    .dataframe thead th {\n",
       "        text-align: right;\n",
       "    }\n",
       "</style>\n",
       "<table border=\"1\" class=\"dataframe\">\n",
       "  <thead>\n",
       "    <tr style=\"text-align: right;\">\n",
       "      <th></th>\n",
       "      <th>ID</th>\n",
       "      <th>integer_ID</th>\n",
       "      <th>instance_counts</th>\n",
       "      <th>corner</th>\n",
       "      <th>source</th>\n",
       "      <th>ref_channel</th>\n",
       "      <th>channel</th>\n",
       "      <th>crop_size</th>\n",
       "      <th>select_plane</th>\n",
       "      <th>isHard</th>\n",
       "      <th>plane_position</th>\n",
       "    </tr>\n",
       "  </thead>\n",
       "  <tbody>\n",
       "    <tr>\n",
       "      <th>5</th>\n",
       "      <td>0005</td>\n",
       "      <td>5</td>\n",
       "      <td>31</td>\n",
       "      <td>[1227, 551, 2984]</td>\n",
       "      <td>/mnt/ampa02_data01/tmurakami/240417_whole_4col...</td>\n",
       "      <td>3</td>\n",
       "      <td>1</td>\n",
       "      <td>[100, 256, 256]</td>\n",
       "      <td>True</td>\n",
       "      <td>4.0</td>\n",
       "      <td>49.0</td>\n",
       "    </tr>\n",
       "    <tr>\n",
       "      <th>24</th>\n",
       "      <td>0024</td>\n",
       "      <td>24</td>\n",
       "      <td>0</td>\n",
       "      <td>[1118, 5850, 4848]</td>\n",
       "      <td>/mnt/ampa02_data01/tmurakami/240417_whole_4col...</td>\n",
       "      <td>3</td>\n",
       "      <td>1</td>\n",
       "      <td>[100, 256, 256]</td>\n",
       "      <td>True</td>\n",
       "      <td>0.0</td>\n",
       "      <td>0.0</td>\n",
       "    </tr>\n",
       "    <tr>\n",
       "      <th>165</th>\n",
       "      <td>0165</td>\n",
       "      <td>165</td>\n",
       "      <td>106</td>\n",
       "      <td>[1008, 7270, 2536]</td>\n",
       "      <td>/mnt/ampa02_data01/tmurakami/240425_whole_4col...</td>\n",
       "      <td>3</td>\n",
       "      <td>4</td>\n",
       "      <td>[100, 256, 256]</td>\n",
       "      <td>True</td>\n",
       "      <td>3.0</td>\n",
       "      <td>85.0</td>\n",
       "    </tr>\n",
       "    <tr>\n",
       "      <th>60</th>\n",
       "      <td>0060</td>\n",
       "      <td>60</td>\n",
       "      <td>2</td>\n",
       "      <td>[1207, 2997, 4567]</td>\n",
       "      <td>/mnt/ampa02_data01/tmurakami/240417_whole_4col...</td>\n",
       "      <td>3</td>\n",
       "      <td>2</td>\n",
       "      <td>[100, 256, 256]</td>\n",
       "      <td>True</td>\n",
       "      <td>0.0</td>\n",
       "      <td>49.0</td>\n",
       "    </tr>\n",
       "    <tr>\n",
       "      <th>231</th>\n",
       "      <td>0231</td>\n",
       "      <td>231</td>\n",
       "      <td>4</td>\n",
       "      <td>[943, 4331, 4980]</td>\n",
       "      <td>/mnt/ampa02_data01/tmurakami/240425_whole_4col...</td>\n",
       "      <td>3</td>\n",
       "      <td>4</td>\n",
       "      <td>[100, 256, 256]</td>\n",
       "      <td>True</td>\n",
       "      <td>0.0</td>\n",
       "      <td>34.0</td>\n",
       "    </tr>\n",
       "    <tr>\n",
       "      <th>275</th>\n",
       "      <td>0275</td>\n",
       "      <td>275</td>\n",
       "      <td>34</td>\n",
       "      <td>[1094, 4194, 1046]</td>\n",
       "      <td>/mnt/ampa02_data01/tmurakami/240417_whole_4col...</td>\n",
       "      <td>3</td>\n",
       "      <td>4</td>\n",
       "      <td>[100, 256, 256]</td>\n",
       "      <td>True</td>\n",
       "      <td>0.0</td>\n",
       "      <td>41.0</td>\n",
       "    </tr>\n",
       "    <tr>\n",
       "      <th>282</th>\n",
       "      <td>0282</td>\n",
       "      <td>282</td>\n",
       "      <td>13</td>\n",
       "      <td>[1164, 5110, 3803]</td>\n",
       "      <td>/mnt/ampa02_data01/tmurakami/240417_whole_4col...</td>\n",
       "      <td>3</td>\n",
       "      <td>1</td>\n",
       "      <td>[100, 256, 256]</td>\n",
       "      <td>True</td>\n",
       "      <td>0.0</td>\n",
       "      <td>45.0</td>\n",
       "    </tr>\n",
       "    <tr>\n",
       "      <th>118</th>\n",
       "      <td>0118</td>\n",
       "      <td>118</td>\n",
       "      <td>140</td>\n",
       "      <td>[1924, 7891, 2088]</td>\n",
       "      <td>/mnt/ampa02_data01/tmurakami/240417_whole_4col...</td>\n",
       "      <td>3</td>\n",
       "      <td>1</td>\n",
       "      <td>[100, 256, 256]</td>\n",
       "      <td>True</td>\n",
       "      <td>4.0</td>\n",
       "      <td>49.0</td>\n",
       "    </tr>\n",
       "    <tr>\n",
       "      <th>244</th>\n",
       "      <td>0244</td>\n",
       "      <td>244</td>\n",
       "      <td>39</td>\n",
       "      <td>[874, 2539, 1301]</td>\n",
       "      <td>/mnt/ampa02_data01/tmurakami/240425_whole_4col...</td>\n",
       "      <td>3</td>\n",
       "      <td>2</td>\n",
       "      <td>[100, 256, 256]</td>\n",
       "      <td>True</td>\n",
       "      <td>8.0</td>\n",
       "      <td>63.0</td>\n",
       "    </tr>\n",
       "    <tr>\n",
       "      <th>59</th>\n",
       "      <td>0059</td>\n",
       "      <td>59</td>\n",
       "      <td>14</td>\n",
       "      <td>[1207, 1266, 4353]</td>\n",
       "      <td>/mnt/ampa02_data01/tmurakami/240417_whole_4col...</td>\n",
       "      <td>3</td>\n",
       "      <td>2</td>\n",
       "      <td>[100, 256, 256]</td>\n",
       "      <td>True</td>\n",
       "      <td>0.0</td>\n",
       "      <td>49.0</td>\n",
       "    </tr>\n",
       "    <tr>\n",
       "      <th>260</th>\n",
       "      <td>0260</td>\n",
       "      <td>260</td>\n",
       "      <td>51</td>\n",
       "      <td>[1000, 3959, 987]</td>\n",
       "      <td>/mnt/ampa02_data01/tmurakami/240417_whole_4col...</td>\n",
       "      <td>3</td>\n",
       "      <td>4</td>\n",
       "      <td>[100, 256, 256]</td>\n",
       "      <td>True</td>\n",
       "      <td>0.0</td>\n",
       "      <td>38.0</td>\n",
       "    </tr>\n",
       "  </tbody>\n",
       "</table>\n",
       "</div>"
      ],
      "text/plain": [
       "       ID integer_ID instance_counts              corner  \\\n",
       "5    0005          5              31   [1227, 551, 2984]   \n",
       "24   0024         24               0  [1118, 5850, 4848]   \n",
       "165  0165        165             106  [1008, 7270, 2536]   \n",
       "60   0060         60               2  [1207, 2997, 4567]   \n",
       "231  0231        231               4   [943, 4331, 4980]   \n",
       "275  0275        275              34  [1094, 4194, 1046]   \n",
       "282  0282        282              13  [1164, 5110, 3803]   \n",
       "118  0118        118             140  [1924, 7891, 2088]   \n",
       "244  0244        244              39   [874, 2539, 1301]   \n",
       "59   0059         59              14  [1207, 1266, 4353]   \n",
       "260  0260        260              51   [1000, 3959, 987]   \n",
       "\n",
       "                                                source ref_channel channel  \\\n",
       "5    /mnt/ampa02_data01/tmurakami/240417_whole_4col...           3       1   \n",
       "24   /mnt/ampa02_data01/tmurakami/240417_whole_4col...           3       1   \n",
       "165  /mnt/ampa02_data01/tmurakami/240425_whole_4col...           3       4   \n",
       "60   /mnt/ampa02_data01/tmurakami/240417_whole_4col...           3       2   \n",
       "231  /mnt/ampa02_data01/tmurakami/240425_whole_4col...           3       4   \n",
       "275  /mnt/ampa02_data01/tmurakami/240417_whole_4col...           3       4   \n",
       "282  /mnt/ampa02_data01/tmurakami/240417_whole_4col...           3       1   \n",
       "118  /mnt/ampa02_data01/tmurakami/240417_whole_4col...           3       1   \n",
       "244  /mnt/ampa02_data01/tmurakami/240425_whole_4col...           3       2   \n",
       "59   /mnt/ampa02_data01/tmurakami/240417_whole_4col...           3       2   \n",
       "260  /mnt/ampa02_data01/tmurakami/240417_whole_4col...           3       4   \n",
       "\n",
       "           crop_size select_plane  isHard  plane_position  \n",
       "5    [100, 256, 256]         True     4.0            49.0  \n",
       "24   [100, 256, 256]         True     0.0             0.0  \n",
       "165  [100, 256, 256]         True     3.0            85.0  \n",
       "60   [100, 256, 256]         True     0.0            49.0  \n",
       "231  [100, 256, 256]         True     0.0            34.0  \n",
       "275  [100, 256, 256]         True     0.0            41.0  \n",
       "282  [100, 256, 256]         True     0.0            45.0  \n",
       "118  [100, 256, 256]         True     4.0            49.0  \n",
       "244  [100, 256, 256]         True     8.0            63.0  \n",
       "59   [100, 256, 256]         True     0.0            49.0  \n",
       "260  [100, 256, 256]         True     0.0            38.0  "
      ]
     },
     "execution_count": 13,
     "metadata": {},
     "output_type": "execute_result"
    }
   ],
   "source": [
    "val_df"
   ]
  },
  {
   "cell_type": "markdown",
   "id": "bb5a382a-e820-4ecc-b593-e84eaa2900d5",
   "metadata": {},
   "source": [
    "### setting render environment"
   ]
  },
  {
   "cell_type": "markdown",
   "id": "459e5eec-1ea7-4e46-a75a-76d0f901ef16",
   "metadata": {},
   "source": [
    "#### load test dataframe"
   ]
  },
  {
   "cell_type": "code",
   "execution_count": 6,
   "id": "89f40788-6683-49f9-b962-dac3d1e9b970",
   "metadata": {},
   "outputs": [],
   "source": [
    "with open('./val_val.pkl', 'rb') as f:\n",
    "    val_df = pickle.load(f)"
   ]
  },
  {
   "cell_type": "code",
   "execution_count": 7,
   "id": "429cf24c-36c5-4bfc-a2f5-2b957a7f3d14",
   "metadata": {},
   "outputs": [],
   "source": [
    "id_list = val_df['ID'].astype(str).tolist()"
   ]
  },
  {
   "cell_type": "code",
   "execution_count": 8,
   "id": "e0473326-4c0d-4ad3-842e-078973ba1cc6",
   "metadata": {},
   "outputs": [],
   "source": [
    "begin_id = 0"
   ]
  },
  {
   "cell_type": "code",
   "execution_count": 26,
   "id": "2bf402e3-bbd9-47b2-8bfb-ae38ba6f2f52",
   "metadata": {
    "scrolled": true
   },
   "outputs": [
    {
     "name": "stdout",
     "output_type": "stream",
     "text": [
      "The index 0005 with the position [1227, 551, 2984]\n"
     ]
    },
    {
     "name": "stdin",
     "output_type": "stream",
     "text": [
      "Do you want to re-analyze the data? y or n y\n"
     ]
    },
    {
     "name": "stdout",
     "output_type": "stream",
     "text": [
      "selected and save\n",
      "The index 0024 with the position [1088, 5850, 4848]\n"
     ]
    },
    {
     "name": "stderr",
     "output_type": "stream",
     "text": [
      "/tmp/ipykernel_343835/1516901526.py:201: UserWarning: ./tatz_annotation/0005_mask.tif is a low contrast image\n",
      "  io.imsave(mask_path, labels_img_class1, plugin='tifffile')\n"
     ]
    },
    {
     "name": "stdin",
     "output_type": "stream",
     "text": [
      "Do you want to re-analyze the data? y or n y\n"
     ]
    },
    {
     "name": "stdout",
     "output_type": "stream",
     "text": [
      "selected and save\n",
      "The index 0165 with the position [1008, 7270, 2536]\n"
     ]
    },
    {
     "name": "stderr",
     "output_type": "stream",
     "text": [
      "/tmp/ipykernel_343835/1516901526.py:201: UserWarning: ./tatz_annotation/0024_mask.tif is a low contrast image\n",
      "  io.imsave(mask_path, labels_img_class1, plugin='tifffile')\n"
     ]
    },
    {
     "name": "stdin",
     "output_type": "stream",
     "text": [
      "Do you want to re-analyze the data? y or n y\n"
     ]
    },
    {
     "name": "stdout",
     "output_type": "stream",
     "text": [
      "selected and save\n",
      "The index 0060 with the position [1207, 2997, 4567]\n"
     ]
    },
    {
     "name": "stderr",
     "output_type": "stream",
     "text": [
      "/tmp/ipykernel_343835/1516901526.py:201: UserWarning: ./tatz_annotation/0165_mask.tif is a low contrast image\n",
      "  io.imsave(mask_path, labels_img_class1, plugin='tifffile')\n"
     ]
    },
    {
     "name": "stdin",
     "output_type": "stream",
     "text": [
      "Do you want to re-analyze the data? y or n y\n"
     ]
    },
    {
     "name": "stdout",
     "output_type": "stream",
     "text": [
      "Closing viewer...\n",
      "Closing viewer...\n"
     ]
    },
    {
     "name": "stderr",
     "output_type": "stream",
     "text": [
      "/home/yyin/miniconda3/envs/annotate/lib/python3.10/site-packages/napari/viewer.py:192: RuntimeWarning: The window geometry settings could not be loaded due to the following error: 'Window' object has no attribute '_qt_window'\n",
      "  self.window.show(block=block)\n"
     ]
    },
    {
     "ename": "AttributeError",
     "evalue": "'Window' object has no attribute '_qt_window'",
     "output_type": "error",
     "traceback": [
      "\u001b[0;31m---------------------------------------------------------------------------\u001b[0m",
      "\u001b[0;31mAttributeError\u001b[0m                            Traceback (most recent call last)",
      "Cell \u001b[0;32mIn[26], line 182\u001b[0m\n\u001b[1;32m    179\u001b[0m viewer\u001b[38;5;241m.\u001b[39mcamera\u001b[38;5;241m.\u001b[39mzoom \u001b[38;5;241m=\u001b[39m \u001b[38;5;241m1.5\u001b[39m\n\u001b[1;32m    180\u001b[0m viewer\u001b[38;5;241m.\u001b[39mdims\u001b[38;5;241m.\u001b[39mcurrent_step \u001b[38;5;241m=\u001b[39m (ori_plane,\u001b[38;5;241m400\u001b[39m,\u001b[38;5;241m400\u001b[39m)\n\u001b[0;32m--> 182\u001b[0m \u001b[43mviewer\u001b[49m\u001b[38;5;241;43m.\u001b[39;49m\u001b[43mshow\u001b[49m\u001b[43m(\u001b[49m\u001b[43mblock\u001b[49m\u001b[38;5;241;43m=\u001b[39;49m\u001b[38;5;28;43;01mTrue\u001b[39;49;00m\u001b[43m)\u001b[49m\n\u001b[1;32m    183\u001b[0m sub_area_slicer \u001b[38;5;241m=\u001b[39m \u001b[38;5;28mtuple\u001b[39m(\u001b[38;5;28mslice\u001b[39m(i,j) \u001b[38;5;28;01mfor\u001b[39;00m i,j \u001b[38;5;129;01min\u001b[39;00m \u001b[38;5;28mzip\u001b[39m(top_border_corner,bottom_border_corner))\n\u001b[1;32m    184\u001b[0m \u001b[38;5;66;03m######\u001b[39;00m\n\u001b[1;32m    185\u001b[0m \u001b[38;5;66;03m# subarea shape\u001b[39;00m\n\u001b[1;32m    186\u001b[0m \u001b[38;5;66;03m# save images and segmentation.\u001b[39;00m\n",
      "File \u001b[0;32m~/miniconda3/envs/annotate/lib/python3.10/site-packages/napari/viewer.py:192\u001b[0m, in \u001b[0;36mViewer.show\u001b[0;34m(self, block)\u001b[0m\n\u001b[1;32m    190\u001b[0m \u001b[38;5;28;01mdef\u001b[39;00m \u001b[38;5;21mshow\u001b[39m(\u001b[38;5;28mself\u001b[39m, \u001b[38;5;241m*\u001b[39m, block\u001b[38;5;241m=\u001b[39m\u001b[38;5;28;01mFalse\u001b[39;00m):\n\u001b[1;32m    191\u001b[0m \u001b[38;5;250m    \u001b[39m\u001b[38;5;124;03m\"\"\"Resize, show, and raise the viewer window.\"\"\"\u001b[39;00m\n\u001b[0;32m--> 192\u001b[0m     \u001b[38;5;28;43mself\u001b[39;49m\u001b[38;5;241;43m.\u001b[39;49m\u001b[43mwindow\u001b[49m\u001b[38;5;241;43m.\u001b[39;49m\u001b[43mshow\u001b[49m\u001b[43m(\u001b[49m\u001b[43mblock\u001b[49m\u001b[38;5;241;43m=\u001b[39;49m\u001b[43mblock\u001b[49m\u001b[43m)\u001b[49m\n",
      "File \u001b[0;32m~/miniconda3/envs/annotate/lib/python3.10/site-packages/napari/_qt/qt_main_window.py:1472\u001b[0m, in \u001b[0;36mWindow.show\u001b[0;34m(self, block)\u001b[0m\n\u001b[1;32m   1461\u001b[0m         warnings\u001b[38;5;241m.\u001b[39mwarn(\n\u001b[1;32m   1462\u001b[0m             trans\u001b[38;5;241m.\u001b[39m_(\n\u001b[1;32m   1463\u001b[0m                 \u001b[38;5;124m'\u001b[39m\u001b[38;5;124mThe window geometry settings could not be loaded due to the following error: \u001b[39m\u001b[38;5;132;01m{err}\u001b[39;00m\u001b[38;5;124m'\u001b[39m,\n\u001b[0;32m   (...)\u001b[0m\n\u001b[1;32m   1468\u001b[0m             stacklevel\u001b[38;5;241m=\u001b[39m\u001b[38;5;241m2\u001b[39m,\n\u001b[1;32m   1469\u001b[0m         )\n\u001b[1;32m   1471\u001b[0m \u001b[38;5;66;03m# Resize axis labels now that window is shown\u001b[39;00m\n\u001b[0;32m-> 1472\u001b[0m \u001b[38;5;28;43mself\u001b[39;49m\u001b[38;5;241;43m.\u001b[39;49m\u001b[43m_qt_viewer\u001b[49m\u001b[38;5;241m.\u001b[39mdims\u001b[38;5;241m.\u001b[39m_resize_axis_labels()\n\u001b[1;32m   1474\u001b[0m \u001b[38;5;66;03m# We want to bring the viewer to the front when\u001b[39;00m\n\u001b[1;32m   1475\u001b[0m \u001b[38;5;66;03m# A) it is our own event loop OR we are running in jupyter\u001b[39;00m\n\u001b[1;32m   1476\u001b[0m \u001b[38;5;66;03m# B) it is not the first time a QMainWindow is being created\u001b[39;00m\n\u001b[0;32m   (...)\u001b[0m\n\u001b[1;32m   1480\u001b[0m \u001b[38;5;66;03m# _qt_window has been created.\u001b[39;00m\n\u001b[1;32m   1481\u001b[0m \u001b[38;5;66;03m# See #721, #732, #735, #795, #1594\u001b[39;00m\n\u001b[1;32m   1482\u001b[0m app_name \u001b[38;5;241m=\u001b[39m QApplication\u001b[38;5;241m.\u001b[39minstance()\u001b[38;5;241m.\u001b[39mapplicationName()\n",
      "File \u001b[0;32m~/miniconda3/envs/annotate/lib/python3.10/site-packages/napari/_qt/qt_main_window.py:821\u001b[0m, in \u001b[0;36mWindow._qt_viewer\u001b[0;34m(self)\u001b[0m\n\u001b[1;32m    818\u001b[0m \u001b[38;5;129m@property\u001b[39m\n\u001b[1;32m    819\u001b[0m \u001b[38;5;28;01mdef\u001b[39;00m \u001b[38;5;21m_qt_viewer\u001b[39m(\u001b[38;5;28mself\u001b[39m):\n\u001b[1;32m    820\u001b[0m     \u001b[38;5;66;03m# this is starting to be \"vestigial\"... this property could be removed\u001b[39;00m\n\u001b[0;32m--> 821\u001b[0m     \u001b[38;5;28;01mreturn\u001b[39;00m \u001b[38;5;28;43mself\u001b[39;49m\u001b[38;5;241;43m.\u001b[39;49m\u001b[43m_qt_window\u001b[49m\u001b[38;5;241m.\u001b[39m_qt_viewer\n",
      "\u001b[0;31mAttributeError\u001b[0m: 'Window' object has no attribute '_qt_window'"
     ]
    }
   ],
   "source": [
    "for ori_id in id_list[0:]:\n",
    "    ori_plane = int(val_df['plane_position'][int(ori_id)])\n",
    "    ori_corner_position = [val_df['corner'][int(ori_id)]]\n",
    "   \n",
    "    segment_chan = int(val_df['channel'][int(ori_id)])\n",
    "    reference_chan =  int(val_df['ref_channel'][int(ori_id)])\n",
    "    #check which source it should be int 0 or 1\n",
    "    brain_source = int(val_df['source'][int(ori_id)].split('/')[-3].split('_')[-2][0])-1\n",
    "    \n",
    "    pos = ori_corner_position[0]\n",
    "    if len(pos) <= 2:\n",
    "        raise ValueError('The position should have length 3')\n",
    "    elif len(pos) == 3:\n",
    "        isHard = 0\n",
    "    elif len(pos) == 4:\n",
    "        isHard = pos[-1]\n",
    "        pos = pos[:-1]\n",
    "    else:\n",
    "        raise ValueError('You have a wrong position format')\n",
    "\n",
    "\n",
    "\n",
    "    if ori_plane == 0:\n",
    "        pos[0] = pos[0] - 15\n",
    "        ori_plane += 15\n",
    "        \n",
    "    \n",
    "        \n",
    "    print(f\"The index {ori_id} with the position {pos}\")\n",
    "    idx = int(ori_id)\n",
    "\n",
    "    z_index = int((pos[0]+ori_plane)*scale_size[0])\n",
    "    # prepare to make border lines\n",
    "    a = [1, pos[1]*scale_size[1], pos[2]*scale_size[2]]\n",
    "    b = [1, (pos[1]+256)*scale_size[1], (pos[2]+256)*scale_size[2]]\n",
    "    top_border_corner = tuple(a)\n",
    "    bottom_border_corner = tuple(b)\n",
    "\n",
    "     # load NMS and cp_3d results\n",
    "    shape = (100, 768, 768)\n",
    "    nms = np.zeros(shape, dtype=np.uint16)\n",
    "    nms[ori_plane-10:ori_plane+11,256:512,256:512] = np.load(f'./NMS/pseudo_3D/{ori_id}.npy').astype(int)\n",
    "\n",
    "    cp_3d = np.zeros(shape, dtype=np.uint16)\n",
    "    cp_3d[ori_plane-10:ori_plane+11,256:512,256:512] =  np.load(f'./cp_3d/{ori_id}.npy').astype(int)\n",
    "    \n",
    "   \n",
    "    #### full brain plane\n",
    "    zarr_array = fix_zarr[brain_source][n5_setups[segment_chan]]['timepoint0']['s2']\n",
    "    selected_plane_1 = zarr_array[z_index, :, :]\n",
    "    zarr_array = fix_zarr[brain_source][n5_setups[reference_chan]]['timepoint0']['s2']\n",
    "    selected_plane_2 = zarr_array[z_index, :, :]\n",
    "    #blue_image = np.full_like(zarr_array[0, :, :], fill_value=255)\n",
    "\n",
    "    \n",
    "    viewer1 = napari.Viewer()\n",
    "    \n",
    "    @viewer1.bind_key('q')\n",
    "    def close_viewer(viewer):\n",
    "        print(\"Closing viewer...\")\n",
    "        viewer.close()\n",
    "\n",
    "     #set hide hotkey\n",
    "    @viewer1.bind_key('h')\n",
    "    def toggle_layer_visibility(viewer):\n",
    "        layer = viewer.layers.selection.active\n",
    "        if layer is not None:\n",
    "            layer.visible = not layer.visible\n",
    "    \n",
    "    #data3 = np.zeros(shape, dtype=np.uint8)\n",
    "    # Initialize the first Napari viewer and add the first Z-plane\n",
    "   \n",
    "    viewer1.add_image(selected_plane_1, name=f'Z-plane {ori_plane}', colormap='gray',opacity = 0.5)\n",
    "\n",
    "    viewer1.add_image(selected_plane_2, name=f'Z-plane {ori_plane}', colormap='gray',opacity = 0.5)\n",
    "    #viewer1.add_image(blue_image, name='Cover Layer')\n",
    "    viewer1.add_shapes([[bottom_border_corner[1],bottom_border_corner[2]],[top_border_corner[1],bottom_border_corner[2]]],\n",
    "                      edge_width=2,edge_color='white',ndim=2,shape_type='line')\n",
    "    viewer1.add_shapes([[top_border_corner[1],bottom_border_corner[2]],[top_border_corner[1],top_border_corner[2]]],\n",
    "                  edge_width=2,edge_color='white',ndim=2,shape_type='line')\n",
    "    viewer1.add_shapes([[bottom_border_corner[1],bottom_border_corner[2]],[bottom_border_corner[1],top_border_corner[2]]],\n",
    "                  edge_width=2,edge_color='white',ndim=2,shape_type='line')\n",
    "    viewer1.add_shapes([[bottom_border_corner[1],top_border_corner[2]],[top_border_corner[1],top_border_corner[2]]],\n",
    "                  edge_width=2,edge_color='white',ndim=2,shape_type='line') \n",
    " \n",
    "    # find out any duplication between the current data and the metadata\n",
    "    # if it is duplicated, ask \n",
    "    flag = False\n",
    "    if df['corner'].isin([pos]).any():\n",
    "        for k in df['integer_ID'][df['corner'].isin([pos])].to_list():\n",
    "            if ((df.loc[k,'source'] == fix_n5_path[brain_source]) and \n",
    "                (df.loc[k,'ref_channel'] == reference_chan) and \n",
    "                (df.loc[k,'channel'] == segment_chan) and \n",
    "                (df.loc[k,'crop_size'] == crop_size) and\n",
    "                (df.loc[k,'select_plane'] == select_plane)):\n",
    "                flag = True\n",
    "                idx = k\n",
    "    if flag:\n",
    "        ans = input(\"Do you want to re-analyze the data? y or n\")\n",
    "        if ans != 'y':\n",
    "            continue\n",
    "        \n",
    "    # set file path to be saved for both image and mask\n",
    "    prefix = str(idx)\n",
    "    while len(prefix) < 4:\n",
    "        prefix = '0' + prefix\n",
    "    img_path = os.path.join(save_path, prefix+'_img.tif')\n",
    "    mask_path = os.path.join(save_path, prefix+'_mask.tif')\n",
    "    # get the image of a channel to be segmented\n",
    "    FoV_stack = []\n",
    "    img = fix_zarr[brain_source][n5_setups[segment_chan]]['timepoint0']['s0']\n",
    "\n",
    "    # set the corner of FoV in napari\n",
    "    top_corner = tuple(i-(k-j)//2 for i,j,k in zip(pos, crop_size, FoV))\n",
    "    bottom_corner = tuple(i+j+(k-j)//2 for i,j,k in zip(pos, crop_size, FoV))\n",
    "    top_corner = tuple(j if j>=i else i for i,j in zip([0,0,0],top_corner))\n",
    "    bottom_corner = tuple(j if j<=i else i for i,j in zip(img.shape,bottom_corner))\n",
    "    \n",
    "    # prepare to make border lines\n",
    "    top_border_corner = tuple((k-j)//2 for j,k in zip(crop_size, FoV))\n",
    "    bottom_border_corner = tuple(j+(k-j)//2 for j,k in zip(crop_size, FoV))\n",
    "    \n",
    "    FoV_segment = img[tuple(slice(i,j) for i,j in zip(top_corner, bottom_corner))]\n",
    "   \n",
    "    # get the image of a reference of channel\n",
    "    if reference_chan is not None:\n",
    "        img = fix_zarr[brain_source][n5_setups[reference_chan]]['timepoint0']['s0']\n",
    "        FoV_reference = img[tuple(slice(i,j) for i,j in zip(top_corner, bottom_corner))]\n",
    "        FoV_stack.append(FoV_reference)\n",
    "    \n",
    "    FoV_stack.append(FoV_segment)\n",
    "    FoV_stack = np.stack(FoV_stack)\n",
    "\n",
    "    ##### FoV is a 2channel(reference and signal) Field of view\n",
    "    # open Napari. Pause for loop until close the window\n",
    "\n",
    "    ## add label layer data\n",
    "    shape = (100, 768, 768)\n",
    "    data = np.zeros(shape, dtype=np.uint16)\n",
    "    viewer = napari.Viewer()\n",
    "\n",
    "    @viewer.bind_key('q')\n",
    "    def close_viewer(viewer):\n",
    "        print(\"Closing viewer...\")\n",
    "        viewer.close()\n",
    "\n",
    "     #set hide hotkey\n",
    "    @viewer.bind_key('h')\n",
    "    def toggle_layer_visibility(viewer):\n",
    "        layer = viewer.layers.selection.active\n",
    "        if layer is not None:\n",
    "            layer.visible = not layer.visible\n",
    "\n",
    "    viewer.add_image(FoV_stack, channel_axis=0, scale=voxel_size, contrast_limits=[0,65535])\n",
    "    viewer.add_shapes([[bottom_border_corner[1]*voxel_size[1],bottom_border_corner[2]*voxel_size[2]],[top_border_corner[1]*voxel_size[1],bottom_border_corner[2]*voxel_size[2]]],\n",
    "                      edge_width=2,edge_color='white',ndim=2,shape_type='line')\n",
    "    viewer.add_shapes([[top_border_corner[1]*voxel_size[1],bottom_border_corner[2]*voxel_size[2]],[top_border_corner[1]*voxel_size[1],top_border_corner[2]*voxel_size[2]]],\n",
    "                  edge_width=2,edge_color='white',ndim=2,shape_type='line')\n",
    "    viewer.add_shapes([[bottom_border_corner[1]*voxel_size[1],bottom_border_corner[2]*voxel_size[2]],[bottom_border_corner[1]*voxel_size[1],top_border_corner[2]*voxel_size[2]]],\n",
    "                  edge_width=2,edge_color='white',ndim=2,shape_type='line')\n",
    "    viewer.add_shapes([[bottom_border_corner[1]*voxel_size[1],top_border_corner[2]*voxel_size[2]],[top_border_corner[1]*voxel_size[1],top_border_corner[2]*voxel_size[2]]],\n",
    "                  edge_width=2,edge_color='white',ndim=2,shape_type='line') \n",
    "\n",
    "    labels_class1 = viewer.add_labels(data,  name=f'Label({ori_plane})', scale=voxel_size)\n",
    "    labels_class1.opacity = 1.0\n",
    "    labels_class1.brush_size = 1\n",
    "\n",
    "\n",
    "    nms_label = viewer.add_labels(nms,  name='nms label', scale=voxel_size)\n",
    "    nms_label.opacity = 1.0\n",
    "    nms_label.brush_size = 1\n",
    "\n",
    "\n",
    "    cp_3d_label = viewer.add_labels(cp_3d,  name='cp_3d label', scale=voxel_size)\n",
    "    cp_3d_label.opacity = 1.0\n",
    "    cp_3d_label.brush_size = 1\n",
    "\n",
    "\n",
    "    viewer.camera.zoom = 1.5\n",
    "    viewer.dims.current_step = (ori_plane,400,400)\n",
    "    \n",
    "    viewer.show(block=True)\n",
    "    sub_area_slicer = tuple(slice(i,j) for i,j in zip(top_border_corner,bottom_border_corner))\n",
    "    ######\n",
    "    # subarea shape\n",
    "    # save images and segmentation.\n",
    "    img = np.swapaxes(FoV_stack[(slice(0,None),)+sub_area_slicer],0,1)\n",
    "    ######\n",
    "    # modify this to cellpose label\n",
    "    #labels_img = labels.data[sub_area_slicer]\n",
    "    labels_img_class1 = labels_class1.data[sub_area_slicer]\n",
    "    \n",
    "    if select_plane:\n",
    "        print('selected and save')\n",
    "        ##########\n",
    "        # modify this to original label\n",
    "        plane_pos = np.argmax((labels_class1.data>0).sum(axis=(1,2)))\n",
    "        img = img[plane_pos,...]\n",
    "        labels_img_class1 = labels_img_class1[plane_pos,...]\n",
    "        io.imsave(img_path, img, plugin='tifffile', imagej=True, metadata={'axes': 'CYX'})\n",
    "        io.imsave(mask_path, labels_img_class1, plugin='tifffile')\n",
    "        \n",
    "\n",
    "    else:\n",
    "        print('#############')\n",
    "        print('not selected and save')\n",
    "        io.imsave(img_path, img, plugin='tifffile', imagej=True, metadata={'axes': 'ZCYX'})\n",
    "\n",
    "    # update the metadata\n",
    "    df.loc[idx,'ID'] = prefix\n",
    "    df.loc[idx,'integer_ID'] = idx\n",
    "    count = (np.unique(labels_img_class1)).size - 1\n",
    "    df.loc[idx,'instance_counts'] = count\n",
    "    df.at[idx,'corner'] = pos\n",
    "    df.loc[idx, 'source'] = fix_n5_path[brain_source]\n",
    "    df.loc[idx, 'ref_channel'] = reference_chan\n",
    "    df.loc[idx, 'channel'] = segment_chan\n",
    "    df.at[idx, 'crop_size'] = crop_size\n",
    "    df.loc[idx, 'select_plane'] = select_plane\n",
    "    df.loc[idx, 'isHard'] = isHard\n",
    "    if select_plane:\n",
    "        df.loc[idx, 'plane_position'] = int(plane_pos)\n",
    "    else:\n",
    "        df.loc[idx, 'plane_position'] = -1\n"
   ]
  },
  {
   "cell_type": "code",
   "execution_count": 13,
   "id": "690e4ecf-1a0f-4ef6-b0c1-9df93fa87415",
   "metadata": {},
   "outputs": [],
   "source": [
    "df.to_pickle(meta_path)"
   ]
  },
  {
   "cell_type": "code",
   "execution_count": 14,
   "id": "ff329081-757d-4f92-a015-166f47cb9601",
   "metadata": {},
   "outputs": [
    {
     "name": "stdout",
     "output_type": "stream",
     "text": [
      "current image id 46, next begin id 46\n"
     ]
    }
   ],
   "source": [
    "# if you don't want to run all again, set the beginning id as begin\n",
    "curent_id = id_list.index(ori_id)\n",
    "begin_id = curent_id\n",
    "print(f'current image id {curent_id}, next begin id {begin_id}')"
   ]
  },
  {
   "cell_type": "code",
   "execution_count": 20,
   "id": "d3d4bdb5-da67-404a-9dc1-db072ef554b7",
   "metadata": {},
   "outputs": [],
   "source": [
    "# (optional)if you want to start all over again, reset begin_id as 0\n",
    "# begin_id = 0"
   ]
  },
  {
   "cell_type": "code",
   "execution_count": null,
   "id": "04d4c466-e646-43c3-9f3a-534eb1f7baff",
   "metadata": {},
   "outputs": [],
   "source": []
  },
  {
   "cell_type": "code",
   "execution_count": null,
   "id": "0246ed0e-e6b9-4f32-891e-8e60fdf99ccc",
   "metadata": {},
   "outputs": [],
   "source": []
  }
 ],
 "metadata": {
  "kernelspec": {
   "display_name": "Python 3 (ipykernel)",
   "language": "python",
   "name": "python3"
  },
  "language_info": {
   "codemirror_mode": {
    "name": "ipython",
    "version": 3
   },
   "file_extension": ".py",
   "mimetype": "text/x-python",
   "name": "python",
   "nbconvert_exporter": "python",
   "pygments_lexer": "ipython3",
   "version": "3.10.14"
  }
 },
 "nbformat": 4,
 "nbformat_minor": 5
}
